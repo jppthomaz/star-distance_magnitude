{
 "cells": [
  {
   "cell_type": "code",
   "execution_count": 3,
   "metadata": {},
   "outputs": [],
   "source": [
    "import numpy as np\n",
    "from scipy import constants"
   ]
  },
  {
   "cell_type": "code",
   "execution_count": 4,
   "metadata": {},
   "outputs": [],
   "source": [
    "c = constants.c\n",
    "pi = constants.pi\n",
    "au = constants.au\n",
    "pc = 1/(pi/(60*180*60))\n",
    "ly = c*60*60*24*365\n",
    "d = 0\n",
    "class starinfo: \n",
    "        def __init__(star, angle, unit, m, M): #Angle unit must be in a str, e.g unit is milliarcsecond = 'mas'. M = absolute magn. m = apparent magn.\n",
    "            star.angle = angle\n",
    "            star.unit = unit \n",
    "            star.m = m \n",
    "            star.M = M\n",
    "            if star.unit == 's':\n",
    "                d = (1/(star.angle))\n",
    "            if star.unit == 'mas':\n",
    "                d = (1/(star.angle*0.001))\n",
    "            star.d = d\n",
    "        def magnitude(star): #If m or M is unknown, use a str 'm' or a str 'M'. \n",
    "            if star.m == 'm': \n",
    "                star.m = (5*np.log10(star.d/10) + star.M)\n",
    "                star.m = str(star.m)\n",
    "                star.M = str (star.M)\n",
    "            if star.M == 'M':\n",
    "                star.M = (5*np.log10(star.d/10) - star.m)*(-1)\n",
    "                star.M = str(star.M)\n",
    "                star.m = str(star.m)\n",
    "            return (f'Apparent Magnitude = {star.m}, Absolute Magnitude = {star.M}')\n",
    "        \n",
    "        def distance(star):\n",
    "            dpc = str(star.d)\n",
    "            dly = str((star.d*au*pc)/(ly))\n",
    "\n",
    "            return (f'{dpc} parsecs, {dly} light years')\n",
    "\n",
    "        \n",
    "ari = starinfo(49.56,'mas', 4.0, 'M')   \n",
    "#print (starinfo.distance(ari))\n",
    "#print (starinfo.magnitude(ari))\n",
    "\n",
    "antares = starinfo(5.89,'mas','m', -5.28)\n",
    "#print (starinfo.distance(antares))\n",
    "#print (starinfo.magnitude(antares))"
   ]
  }
 ],
 "metadata": {
  "kernelspec": {
   "display_name": "Python 3",
   "language": "python",
   "name": "python3"
  },
  "language_info": {
   "codemirror_mode": {
    "name": "ipython",
    "version": 3
   },
   "file_extension": ".py",
   "mimetype": "text/x-python",
   "name": "python",
   "nbconvert_exporter": "python",
   "pygments_lexer": "ipython3",
   "version": "3.8.3"
  }
 },
 "nbformat": 4,
 "nbformat_minor": 4
}
